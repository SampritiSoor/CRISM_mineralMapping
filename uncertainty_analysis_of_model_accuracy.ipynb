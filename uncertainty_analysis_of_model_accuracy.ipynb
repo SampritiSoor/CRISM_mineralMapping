{
 "cells": [
  {
   "cell_type": "code",
   "execution_count": 1,
   "metadata": {},
   "outputs": [
    {
     "data": {
      "text/html": [
       "<style>.container { width:100% !important; }</style>"
      ],
      "text/plain": [
       "<IPython.core.display.HTML object>"
      ]
     },
     "metadata": {},
     "output_type": "display_data"
    }
   ],
   "source": [
    "from IPython.core.display import display, HTML\n",
    "display(HTML(\"<style>.container { width:100% !important; }</style>\"))\n",
    "\n",
    "import warnings\n",
    "warnings.filterwarnings('ignore')\n",
    "\n",
    "import os\n",
    "from os import listdir\n",
    "from os.path import isfile, join\n",
    "\n",
    "from sklearn.model_selection import KFold\n",
    "from sklearn.model_selection import train_test_split\n",
    "from scipy.interpolate import interp1d\n",
    "from sklearn.ensemble import RandomForestClassifier\n",
    "from sklearn.naive_bayes import GaussianNB\n",
    "from sklearn.discriminant_analysis import LinearDiscriminantAnalysis as LDA\n",
    "from sklearn.decomposition import PCA\n",
    "from sklearn.svm import SVC\n",
    "from sklearn.decomposition import LatentDirichletAllocation\n",
    "from sklearn.cluster import OPTICS\n",
    "from sklearn.mixture import BayesianGaussianMixture \n",
    "from sklearn.preprocessing import MinMaxScaler\n",
    "\n",
    "import tensorflow as tf\n",
    "from tensorflow.keras.utils import to_categorical\n",
    "from tensorflow.keras.models import Sequential, Model, load_model\n",
    "from tensorflow.keras.layers import Input, Reshape, Dense, BatchNormalization, Dropout, Flatten\n",
    "from tensorflow.keras.layers import MaxPooling1D,MaxPooling2D,AveragePooling1D\n",
    "from tensorflow.keras.layers import Activation, LeakyReLU\n",
    "from tensorflow.keras.layers import UpSampling2D, Conv2D, Conv1D\n",
    "from tensorflow.keras.callbacks import EarlyStopping,ModelCheckpoint\n",
    "\n",
    "import keras_radam\n",
    "from keras_radam import RAdam\n",
    "from tensorflow.keras.utils import plot_model\n",
    "\n",
    "import numpy as np\n",
    "import joblib \n",
    "import matplotlib.pyplot as plt\n",
    "\n",
    "from CRISMrelatedMethods.preprocessing import *\n",
    "from CRISMrelatedMethods.dataRead import *\n",
    "from CRISMrelatedMethods.score import *"
   ]
  },
  {
   "cell_type": "code",
   "execution_count": 2,
   "metadata": {},
   "outputs": [],
   "source": [
    "augmentedData_X=joblib.load('AugmentedPrep_X.z')\n",
    "augmentedData_Y=joblib.load('AugmentedPrep_Y.z')\n",
    "labelledData_X=joblib.load('plebaniMICA_testPrep_X.z')\n",
    "labelledData_Y=joblib.load('plebaniMICA_testPrep_Y.z')"
   ]
  },
  {
   "cell_type": "code",
   "execution_count": 3,
   "metadata": {},
   "outputs": [],
   "source": [
    "def fitCNN(trainingData,Ydata,batch_size=240, epochs=50,prep=''):\n",
    "    trainingData_rs = trainingData.reshape(trainingData.shape[0],trainingData.shape[1],1)\n",
    "    X_train,X_val,y_train,y_val = train_test_split(trainingData_rs,Ydata,test_size=0.25,random_state=20)\n",
    "    newYTrain = to_categorical(y_train)\n",
    "    newYval = to_categorical(y_val)\n",
    "\n",
    "    tf.keras.backend.clear_session()\n",
    "    model = Sequential()\n",
    "    model.add(Conv1D(filters=128, kernel_size=3, strides=1, activation='relu',input_shape=(trainingData.shape[1],1)))\n",
    "    model.add(MaxPooling1D(pool_size=(3), strides=(1)))\n",
    "    model.add(BatchNormalization())\n",
    "    model.add(Dropout(0.3))\n",
    "    model.add(Conv1D(filters=64, kernel_size=5, strides=1, activation='relu'))\n",
    "    model.add(MaxPooling1D(pool_size=(5), strides=(2)))\n",
    "    model.add(BatchNormalization())\n",
    "    model.add(Dropout(0.3))\n",
    "    model.add(Conv1D(filters=64, kernel_size=9, strides=1, activation='relu'))\n",
    "    model.add(MaxPooling1D(pool_size=(9), strides=(3)))\n",
    "    model.add(BatchNormalization())\n",
    "    model.add(Dropout(0.3))\n",
    "    model.add(Flatten())\n",
    "    model.add(BatchNormalization())\n",
    "    model.add(Dense(newYTrain.shape[1], activation='softmax'))\n",
    "\n",
    "    loss='categorical_crossentropy'\n",
    "    optimizer = RAdam(total_steps=5000, warmup_proportion=0.2, min_lr=1e-5)\n",
    "    metrics=['accuracy']\n",
    "    model.compile(loss=loss, optimizer=optimizer , metrics=metrics)\n",
    "    joblib.dump({'RAdam':optimizer},'models/CNN_optimizer_'+prep+'.z')\n",
    "\n",
    "    checkpoint=ModelCheckpoint('models/CNN_'+prep+'.h5',monitor='val_loss',verbose=0,save_best_only=True,save_weights_only=False,mode='min')\n",
    "    es = EarlyStopping(monitor='val_loss', mode='min', verbose=0, patience=50)\n",
    "    model.fit(X_train, newYTrain, validation_data=(X_val, newYval), epochs=epochs,batch_size = batch_size, verbose=0, callbacks=[es,checkpoint]) \n",
    "    \n",
    "def fitANN(trainingData,Ydata,batch_size=300, epochs=75,prep=''):\n",
    "    trainingData_rs = trainingData.reshape(trainingData.shape[0],trainingData.shape[1])\n",
    "    X_train,X_val,y_train,y_val = train_test_split(trainingData_rs,Ydata,test_size=0.25,random_state=20)\n",
    "    newYTrain = to_categorical(y_train)\n",
    "    newYval = to_categorical(y_val)\n",
    "\n",
    "    tf.keras.backend.clear_session()\n",
    "    model = Sequential()\n",
    "    model.add(Dense(512, input_dim=X_train.shape[1], activation='linear'))\n",
    "    model.add(LeakyReLU(alpha=0.3))\n",
    "    model.add(BatchNormalization())\n",
    "    model.add(Dropout(0.4))\n",
    "    model.add(Dense(512, activation='linear'))\n",
    "    model.add(LeakyReLU(alpha=0.3))\n",
    "    model.add(BatchNormalization())\n",
    "    model.add(Dropout(0.4))\n",
    "    model.add(Dense(256, input_dim=X_train.shape[1], activation='linear'))\n",
    "    model.add(LeakyReLU(alpha=0.3))\n",
    "    model.add(BatchNormalization())\n",
    "    model.add(Dropout(0.4))\n",
    "    model.add(Dense(newYTrain.shape[1], activation='softmax'))\n",
    "\n",
    "    loss='categorical_crossentropy'\n",
    "    optimizer = RAdam(total_steps=5000, warmup_proportion=0.2, min_lr=1e-5)\n",
    "    metrics=['accuracy']\n",
    "    model.compile(loss=loss, optimizer=optimizer , metrics=metrics)\n",
    "    joblib.dump({'RAdam':optimizer},'models/ANN_optimizer_'+prep+'.z')\n",
    "\n",
    "    checkpoint=ModelCheckpoint('models/ANN_'+prep+'.h5',monitor='val_loss',verbose=0,save_best_only=True,save_weights_only=False,mode='min')\n",
    "    es = EarlyStopping(monitor='val_loss', mode='min', verbose=0, patience=50)\n",
    "    model.fit(X_train, newYTrain, validation_data=(X_val, newYval), epochs=epochs,batch_size = batch_size, verbose=0, callbacks=[es,checkpoint]) \n",
    "    \n",
    "def fitRFC(trainingData,Ydata,prep=''):\n",
    "    model= RandomForestClassifier(n_estimators=100, bootstrap=True, warm_start=True).fit(trainingData, np.array(Ydata).ravel())\n",
    "    joblib.dump(model,'models/RFC_'+prep+'.z') \n",
    "\n",
    "def fitSVC(trainingData,Ydata,prep=''):\n",
    "    pca=PCA(.95)\n",
    "    pca.fit(trainingData)\n",
    "    model= SVC(tol=1e-3, kernel='rbf',gamma='scale',C=1).fit(pca.transform(trainingData),np.array(Ydata).ravel())\n",
    "    joblib.dump(pca,'models/PCA_'+prep+'.z') \n",
    "    joblib.dump(model,'models/SVC_'+prep+'.z') \n",
    "\n",
    "def getAccuracy(prep,modelTypes,overwrite=False,foldScore=False,k=5):\n",
    "    train_X,train_Y=np.copy(augmentedData_X[prep]),np.copy(augmentedData_Y)\n",
    "    test_X,test_Y=np.copy(labelledData_X[prep]),np.copy(labelledData_Y)\n",
    "    test_X,test_Y=shuffle_in_unison(test_X,test_Y)\n",
    "        \n",
    "    for M in modelTypes:\n",
    "        if M=='CNN':\n",
    "            fitCNN(train_X,train_Y,prep=prep)\n",
    "            model=load_model('models/CNN_'+prep+'.h5',custom_objects=joblib.load('models/CNN_optimizer_'+prep+'.z'))\n",
    "            print(M,getFfoldFitScore(model,test_X.reshape(test_X.shape[0],test_X.shape[1],1),test_Y,foldScore=foldScore,f=k))\n",
    "        if M=='ANN':\n",
    "            fitANN(train_X,train_Y,prep=prep)\n",
    "            model=load_model('models/ANN_'+prep+'.h5',custom_objects=joblib.load('models/ANN_optimizer_'+prep+'.z'))\n",
    "            print(M,getFfoldFitScore(model,test_X,test_Y,foldScore=foldScore,f=k))\n",
    "        if M=='RFC':\n",
    "            fitRFC(train_X,train_Y,prep=prep)\n",
    "            model=joblib.load('models/RFC_'+prep+'.z')\n",
    "            print(M,getFfoldFitScore(model,test_X,test_Y,foldScore=foldScore,f=k))\n",
    "        if M=='SVC':\n",
    "            fitSVC(train_X,train_Y,prep=prep)\n",
    "            pca=joblib.load('models/PCA_'+prep+'.z') \n",
    "            model=joblib.load('models/SVC_'+prep+'.z')\n",
    "            print(M,getFfoldFitScore(model,pca.transform(test_X),test_Y,foldScore=foldScore,f=k))"
   ]
  },
  {
   "cell_type": "code",
   "execution_count": 4,
   "metadata": {},
   "outputs": [
    {
     "name": "stdout",
     "output_type": "stream",
     "text": [
      "CNN (0.1307, 0.01)\n",
      "ANN (0.1971, 0.008)\n",
      "RFC (0.2722, 0.014)\n",
      "SVC (0.0723, 0.011)\n"
     ]
    }
   ],
   "source": [
    "getAccuracy('_',['CNN','ANN','RFC','SVC'])"
   ]
  },
  {
   "cell_type": "code",
   "execution_count": 5,
   "metadata": {},
   "outputs": [
    {
     "name": "stdout",
     "output_type": "stream",
     "text": [
      "CNN (0.267, 0.016)\n",
      "ANN (0.2996, 0.012)\n",
      "RFC (0.2748, 0.011)\n",
      "SVC (0.0714, 0.004)\n"
     ]
    }
   ],
   "source": [
    "getAccuracy('cr',['CNN','ANN','RFC','SVC'])"
   ]
  },
  {
   "cell_type": "code",
   "execution_count": 6,
   "metadata": {},
   "outputs": [
    {
     "name": "stdout",
     "output_type": "stream",
     "text": [
      "CNN (0.2905, 0.011)\n",
      "ANN (0.3036, 0.016)\n",
      "RFC (0.2525, 0.017)\n",
      "SVC (0.0714, 0.001)\n"
     ]
    }
   ],
   "source": [
    "getAccuracy('crsm',['CNN','ANN','RFC','SVC'])"
   ]
  },
  {
   "cell_type": "code",
   "execution_count": 7,
   "metadata": {},
   "outputs": [
    {
     "name": "stdout",
     "output_type": "stream",
     "text": [
      "CNN (0.5123, 0.012)\n",
      "ANN (0.5107, 0.01)\n",
      "RFC (0.4036, 0.007)\n",
      "SVC (0.4439, 0.012)\n"
     ]
    }
   ],
   "source": [
    "getAccuracy('crCR',['CNN','ANN','RFC','SVC'])"
   ]
  },
  {
   "cell_type": "code",
   "execution_count": 8,
   "metadata": {},
   "outputs": [
    {
     "name": "stdout",
     "output_type": "stream",
     "text": [
      "CNN (0.5398, 0.005)\n",
      "ANN (0.5173, 0.011)\n",
      "RFC (0.3777, 0.005)\n",
      "SVC (0.445, 0.008)\n"
     ]
    }
   ],
   "source": [
    "getAccuracy('crsmCR',['CNN','ANN','RFC','SVC'])"
   ]
  },
  {
   "cell_type": "code",
   "execution_count": 9,
   "metadata": {},
   "outputs": [
    {
     "name": "stdout",
     "output_type": "stream",
     "text": [
      "CNN (0.7082, 0.015)\n",
      "ANN (0.7506, 0.01)\n",
      "RFC (0.6666, 0.011)\n",
      "SVC (0.6016, 0.013)\n"
     ]
    }
   ],
   "source": [
    "getAccuracy('crsmSS',['CNN','ANN','RFC','SVC'])"
   ]
  },
  {
   "cell_type": "code",
   "execution_count": 10,
   "metadata": {},
   "outputs": [
    {
     "name": "stdout",
     "output_type": "stream",
     "text": [
      "CNN (0.8168, 0.008)\n",
      "ANN (0.7905, 0.009)\n",
      "RFC (0.7621, 0.007)\n",
      "SVC (0.7739, 0.013)\n"
     ]
    }
   ],
   "source": [
    "getAccuracy('crsmCRSS',['CNN','ANN','RFC','SVC'])"
   ]
  },
  {
   "cell_type": "code",
   "execution_count": 11,
   "metadata": {},
   "outputs": [
    {
     "name": "stdout",
     "output_type": "stream",
     "text": [
      "ANN (0.8225, 0.005)\n",
      "RFC (0.7967, 0.007)\n",
      "SVC (0.8033, 0.003)\n"
     ]
    }
   ],
   "source": [
    "getAccuracy('crsmCRSSFE',['ANN','RFC','SVC'])"
   ]
  }
 ],
 "metadata": {
  "kernelspec": {
   "display_name": "Python 3",
   "language": "python",
   "name": "python3"
  },
  "language_info": {
   "codemirror_mode": {
    "name": "ipython",
    "version": 3
   },
   "file_extension": ".py",
   "mimetype": "text/x-python",
   "name": "python",
   "nbconvert_exporter": "python",
   "pygments_lexer": "ipython3",
   "version": "3.7.7"
  }
 },
 "nbformat": 4,
 "nbformat_minor": 5
}
