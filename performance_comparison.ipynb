{
 "cells": [
  {
   "cell_type": "code",
   "execution_count": 2,
   "metadata": {},
   "outputs": [
    {
     "data": {
      "text/html": [
       "<style>.container { width:100% !important; }</style>"
      ],
      "text/plain": [
       "<IPython.core.display.HTML object>"
      ]
     },
     "metadata": {},
     "output_type": "display_data"
    }
   ],
   "source": [
    "from IPython.core.display import display, HTML\n",
    "display(HTML(\"<style>.container { width:100% !important; }</style>\"))\n",
    "\n",
    "import warnings\n",
    "warnings.filterwarnings('ignore')\n",
    "\n",
    "import os\n",
    "from os import listdir\n",
    "from os.path import isfile, join\n",
    "\n",
    "from sklearn.model_selection import KFold\n",
    "from sklearn.model_selection import train_test_split\n",
    "from scipy.interpolate import interp1d\n",
    "from sklearn.ensemble import RandomForestClassifier\n",
    "from sklearn.naive_bayes import GaussianNB\n",
    "from sklearn.discriminant_analysis import LinearDiscriminantAnalysis as LDA\n",
    "from sklearn.decomposition import PCA\n",
    "from sklearn.svm import SVC\n",
    "from sklearn.decomposition import LatentDirichletAllocation\n",
    "from sklearn.cluster import OPTICS\n",
    "from sklearn.mixture import BayesianGaussianMixture \n",
    "\n",
    "import tensorflow as tf\n",
    "from tensorflow.keras.utils import to_categorical\n",
    "from tensorflow.keras.models import Sequential, Model, load_model\n",
    "from tensorflow.keras.layers import Input, Reshape, Dense, BatchNormalization\n",
    "from tensorflow.keras.layers import Activation, LeakyReLU\n",
    "\n",
    "import keras_radam\n",
    "from keras_radam import RAdam\n",
    "from tensorflow.keras.utils import plot_model\n",
    "\n",
    "import numpy as np\n",
    "import joblib \n",
    "import matplotlib.pyplot as plt\n",
    "\n",
    "from CRISMrelatedMethods.preprocessing import *\n",
    "from CRISMrelatedMethods.dataRead import *\n",
    "from CRISMrelatedMethods.score import *"
   ]
  },
  {
   "cell_type": "code",
   "execution_count": 3,
   "metadata": {},
   "outputs": [],
   "source": [
    "augmentedData_X=joblib.load('AugmentedPrep_X.z')\n",
    "augmentedData_Y=joblib.load('AugmentedPrep_Y.z')\n",
    "labelledData_X=joblib.load('plebaniMICA_testPrep_X.z')\n",
    "labelledData_Y=joblib.load('plebaniMICA_testPrep_Y.z')"
   ]
  },
  {
   "cell_type": "markdown",
   "metadata": {},
   "source": [
    "------------------------------------------------------------------------------------------------------------------\n",
    "Ordering Points To Identify Clustering Structure (OPTICS)"
   ]
  },
  {
   "cell_type": "code",
   "execution_count": 53,
   "metadata": {},
   "outputs": [
    {
     "name": "stdout",
     "output_type": "stream",
     "text": [
      "mineral_group 0.6561 0.054\n",
      "groupwisePerf [('Iron oxides and primary silicates', 0.688, 0.069), ('Ices', 0.8512, 0.107), ('Sulfates', 0.6848, 0.176), ('Phyllosilicates', 0.7121, 0.307), ('Carbonates', 0.3124, 0.123), ('Hydrated silicates and halides', 0.5651, 0.16)]\n"
     ]
    }
   ],
   "source": [
    "plebaniMICA_X_smCRSS_copy,plebaniMICA_Y_copy=np.copy(labelledData_X['crsmCRSS']),np.copy(labelledData_Y)\n",
    "plebaniMICA_X_smCRSS_copy,plebaniMICA_Y_copy=shuffle_in_unison(plebaniMICA_X_smCRSS_copy,plebaniMICA_Y_copy)\n",
    "noOfFolds=8\n",
    "individual_mineral,mineral_group,groupwisePerf=[],[],{i:[] for i in range(len(mineralGroupNames))}\n",
    "for f in range(noOfFolds):\n",
    "    testX=plebaniMICA_X_smCRSS_copy[(int(plebaniMICA_Y_copy.shape[0]/noOfFolds))*f:(int(plebaniMICA_Y_copy.shape[0]/noOfFolds))*(f+1),:]\n",
    "    testY=plebaniMICA_Y_copy[(int(plebaniMICA_Y_copy.shape[0]/noOfFolds))*f:(int(plebaniMICA_Y_copy.shape[0]/noOfFolds))*(f+1)]\n",
    "\n",
    "    clustering = OPTICS(min_samples=.01, algorithm='brute',xi=.001,metric='correlation',min_cluster_size=.01).fit(testX)\n",
    "    labels=clustering.labels_\n",
    "\n",
    "    labels-=np.min(labels)\n",
    "    labelPairing= getLabelPairing(labels, testY)\n",
    "    c_label=np.array([labelPairing[labels[l]] for l in range(labels.shape[0])])\n",
    "    \n",
    "    individual_mineral.append(np.sum(np.where(c_label==testY,True,False))/testY.shape[0])\n",
    "    mineral_group.append(np.sum(np.where(getGroupPred(c_label)==getGroupPred(testY),True,False))/testY.shape[0])\n",
    "    \n",
    "    G=getClassWiseAccuracy(getGroupPred(c_label),getGroupPred(testY))\n",
    "    for g in G:\n",
    "        groupwisePerf[g].append(G[g])\n",
    "    \n",
    "print('mineral_group',np.round(np.mean(mineral_group),4),np.round(np.std(mineral_group),3))\n",
    "print('groupwisePerf',[(mineralGroupNames[g],np.round(np.mean(groupwisePerf[g]),4),np.round(np.std(groupwisePerf[g]),3)) for g in groupwisePerf])"
   ]
  },
  {
   "cell_type": "markdown",
   "metadata": {},
   "source": [
    "------------------------------------------------------------------------------------------------------------------\n",
    "linear discriminant analysis (LDA)"
   ]
  },
  {
   "cell_type": "code",
   "execution_count": 47,
   "metadata": {},
   "outputs": [
    {
     "name": "stdout",
     "output_type": "stream",
     "text": [
      "mineral_group 0.8315 0.029\n",
      "groupwisePerf [('Iron oxides and primary silicates', 0.8917, 0.039), ('Ices', 0.9431, 0.076), ('Sulfates', 0.851, 0.051), ('Phyllosilicates', 0.8108, 0.076), ('Carbonates', 0.6954, 0.18), ('Hydrated silicates and halides', 0.7991, 0.055)]\n"
     ]
    }
   ],
   "source": [
    "plebaniMICA_X_smCRSS_copy,plebaniMICA_Y_copy=np.copy(labelledData_X['crsmCRSS']),np.copy(labelledData_Y)\n",
    "plebaniMICA_X_smCRSS_copy,plebaniMICA_Y_copy=shuffle_in_unison(plebaniMICA_X_smCRSS_copy,plebaniMICA_Y_copy)\n",
    "noOfFolds=10\n",
    "individual_mineral,mineral_group,groupwisePerf=[],[],{i:[] for i in range(len(mineralGroupNames))}\n",
    "for f in range(noOfFolds):\n",
    "    testX=plebaniMICA_X_smCRSS_copy[(int(plebaniMICA_Y_copy.shape[0]/noOfFolds))*f:(int(plebaniMICA_Y_copy.shape[0]/noOfFolds))*(f+1),:]\n",
    "    testY=plebaniMICA_Y_copy[(int(plebaniMICA_Y_copy.shape[0]/noOfFolds))*f:(int(plebaniMICA_Y_copy.shape[0]/noOfFolds))*(f+1)]\n",
    "\n",
    "    X_train,X_test,y_train,y_test = train_test_split(testX,testY,test_size=0.3,random_state=20)\n",
    "    lda = LDA(shrinkage=1,solver='lsqr').fit(X_train, y_train)\n",
    "\n",
    "    y_=lda.predict(X_test)\n",
    "    \n",
    "    individual_mineral.append(np.sum(np.where(y_==y_test,True,False))/y_test.shape[0])\n",
    "    mineral_group.append(np.sum(np.where(getGroupPred(y_)==getGroupPred(y_test),True,False))/y_test.shape[0])\n",
    "    \n",
    "    G=getClassWiseAccuracy(getGroupPred(y_),getGroupPred(y_test))\n",
    "    for g in G:\n",
    "        groupwisePerf[g].append(G[g])\n",
    "    \n",
    "print('mineral_group',np.round(np.mean(mineral_group),4),np.round(np.std(mineral_group),3))\n",
    "print('groupwisePerf',[(mineralGroupNames[g],np.round(np.mean(groupwisePerf[g]),4),np.round(np.std(groupwisePerf[g]),3)) for g in groupwisePerf])"
   ]
  },
  {
   "cell_type": "markdown",
   "metadata": {},
   "source": [
    "------------------------------------------------------------------------------------------------------------------\n",
    "Bayesian Gaussian Dirichlet Process Mixture (DPM)"
   ]
  },
  {
   "cell_type": "code",
   "execution_count": 5,
   "metadata": {},
   "outputs": [
    {
     "name": "stdout",
     "output_type": "stream",
     "text": [
      "mineral_group 0.7143 0.031\n",
      "groupwisePerf [('Iron oxides and primary silicates', 0.778, 0.096), ('Ices', 0.8421, 0.165), ('Sulfates', 0.7607, 0.088), ('Phyllosilicates', 0.6981, 0.209), ('Carbonates', 0.5212, 0.2), ('Hydrated silicates and halides', 0.6524, 0.163)]\n"
     ]
    }
   ],
   "source": [
    "plebaniMICA_X_smCRSS_copy,plebaniMICA_Y_copy=np.copy(labelledData_X['crsmCRSS']),np.copy(labelledData_Y)\n",
    "plebaniMICA_X_smCRSS_copy,plebaniMICA_Y_copy=shuffle_in_unison(plebaniMICA_X_smCRSS_copy,plebaniMICA_Y_copy)\n",
    "noOfFolds=10\n",
    "individual_mineral,mineral_group,groupwisePerf=[],[],{i:[] for i in range(len(mineralGroupNames))}\n",
    "for f in range(noOfFolds):\n",
    "    testX=plebaniMICA_X_smCRSS_copy[(int(plebaniMICA_Y_copy.shape[0]/noOfFolds))*f:(int(plebaniMICA_Y_copy.shape[0]/noOfFolds))*(f+1),:]\n",
    "    testY=plebaniMICA_Y_copy[(int(plebaniMICA_Y_copy.shape[0]/noOfFolds))*f:(int(plebaniMICA_Y_copy.shape[0]/noOfFolds))*(f+1)]\n",
    "    \n",
    "    pca=PCA(.95)\n",
    "    pca.fit(testX)\n",
    "\n",
    "    X_train,X_test,y_train,y_test = train_test_split(testX,testY,test_size=0.2) #,random_state=20\n",
    "    dpm = BayesianGaussianMixture(weight_concentration_prior_type='dirichlet_process',n_components=np.unique(y_train).shape[0], random_state=1,warm_start=True).fit(pca.transform(X_train), y_train)\n",
    "\n",
    "    y_=dpm.predict(pca.transform(X_test))\n",
    "    labelPairing= getLabelPairing(y_, y_test)\n",
    "    c_label=np.array([labelPairing[y_[l]] for l in range(y_.shape[0])])\n",
    "\n",
    "    individual_mineral.append(np.sum(np.where(c_label==y_test,True,False))/y_test.shape[0])\n",
    "    mineral_group.append(np.sum(np.where(getGroupPred(c_label)==getGroupPred(y_test),True,False))/y_test.shape[0])\n",
    "    \n",
    "    G=getClassWiseAccuracy(getGroupPred(c_label),getGroupPred(y_test))\n",
    "    for g in G:\n",
    "        groupwisePerf[g].append(G[g])\n",
    "    \n",
    "print('mineral_group',np.round(np.mean(mineral_group),4),np.round(np.std(mineral_group),3))\n",
    "print('groupwisePerf',[(mineralGroupNames[g],np.round(np.mean(groupwisePerf[g]),4),np.round(np.std(groupwisePerf[g]),3)) for g in groupwisePerf])"
   ]
  },
  {
   "cell_type": "markdown",
   "metadata": {},
   "source": [
    "------------------------------------------------------------------------------------------------------------------\n",
    "CNN"
   ]
  },
  {
   "cell_type": "code",
   "execution_count": 5,
   "metadata": {},
   "outputs": [
    {
     "name": "stdout",
     "output_type": "stream",
     "text": [
      "mineral_group 0.8162 0.014\n",
      "groupwisePerf [('Iron oxides and primary silicates', 0.8542, 0.047), ('Ices', 0.9757, 0.043), ('Sulfates', 1.0194, 0.022), ('Phyllosilicates', 0.7163, 0.035), ('Carbonates', 0.7716, 0.07), ('Hydrated silicates and halides', 0.5889, 0.042)]\n"
     ]
    }
   ],
   "source": [
    "warnings.filterwarnings('ignore')\n",
    "\n",
    "plebaniMICA_X_smCRSSFE_copy,plebaniMICA_Y_copy=np.copy(labelledData_X['crsmCRSS']),np.copy(labelledData_Y)\n",
    "plebaniMICA_X_smCRSSFE_copy,plebaniMICA_Y_copy=shuffle_in_unison(plebaniMICA_X_smCRSSFE_copy,plebaniMICA_Y_copy)\n",
    "noOfFolds=10\n",
    "\n",
    "model=load_model('models/CNN_crsmCRSS.h5', custom_objects={'RAdam': RAdam})\n",
    "    \n",
    "individual_mineral,mineral_group,groupwisePerf=[],[],{i:[] for i in range(len(mineralGroupNames))}\n",
    "for f in range(noOfFolds):\n",
    "    testX=np.expand_dims(plebaniMICA_X_smCRSSFE_copy[(int(plebaniMICA_Y_copy.shape[0]/noOfFolds))*f:(int(plebaniMICA_Y_copy.shape[0]/noOfFolds))*(f+1),:],axis=2)\n",
    "    testY=plebaniMICA_Y_copy[(int(plebaniMICA_Y_copy.shape[0]/noOfFolds))*f:(int(plebaniMICA_Y_copy.shape[0]/noOfFolds))*(f+1)]\n",
    "\n",
    "    Ppredict=(model.predict(testX))\n",
    "    Plabel=np.array([mineralIndexMap[np.argmax(Ppredict[p])] for p in range(Ppredict.shape[0])])    \n",
    "    \n",
    "    individual_mineral.append(np.sum(np.where(Plabel==testY,True,False))/testY.shape[0])\n",
    "    mineral_group.append(np.sum(np.where(getGroupPred(Plabel)==getGroupPred(testY),True,False))/testY.shape[0])\n",
    "    \n",
    "    G=getClassWiseAccuracy(getGroupPred(Plabel),getGroupPred(testY))\n",
    "    for g in G:\n",
    "        groupwisePerf[g].append(G[g])\n",
    "        \n",
    "print('mineral_group',np.round(np.mean(mineral_group),4),np.round(np.std(mineral_group),3))\n",
    "print('groupwisePerf',[(mineralGroupNames[g],np.round(np.mean(groupwisePerf[g]),4),np.round(np.std(groupwisePerf[g]),3)) for g in groupwisePerf])"
   ]
  },
  {
   "cell_type": "markdown",
   "metadata": {},
   "source": [
    "------------------------------------------------------------------------------------------------------------------\n",
    "ANN"
   ]
  },
  {
   "cell_type": "code",
   "execution_count": 14,
   "metadata": {},
   "outputs": [
    {
     "name": "stdout",
     "output_type": "stream",
     "text": [
      "mineral_group 0.8225 0.021\n",
      "groupwisePerf [('Iron oxides and primary silicates', 0.8282, 0.035), ('Ices', 0.9029, 0.056), ('Sulfates', 0.9422, 0.021), ('Phyllosilicates', 0.8926, 0.026), ('Carbonates', 0.6339, 0.067), ('Hydrated silicates and halides', 0.5942, 0.072)]\n"
     ]
    }
   ],
   "source": [
    "plebaniMICA_X_smCRSSFE_copy,plebaniMICA_Y_copy=np.copy(labelledData_X['crsmCRSSFE']),np.copy(labelledData_Y)\n",
    "plebaniMICA_X_smCRSSFE_copy,plebaniMICA_Y_copy=shuffle_in_unison(plebaniMICA_X_smCRSSFE_copy,plebaniMICA_Y_copy)\n",
    "noOfFolds=10\n",
    "\n",
    "model=load_model('models/ANN_crsmCRSSFE.h5', custom_objects={'RAdam': RAdam})\n",
    "    \n",
    "individual_mineral,mineral_group,groupwisePerf=[],[],{i:[] for i in range(len(mineralGroupNames))}\n",
    "for f in range(noOfFolds):\n",
    "    testX=plebaniMICA_X_smCRSSFE_copy[(int(plebaniMICA_Y_copy.shape[0]/noOfFolds))*f:(int(plebaniMICA_Y_copy.shape[0]/noOfFolds))*(f+1),:]\n",
    "    testY=plebaniMICA_Y_copy[(int(plebaniMICA_Y_copy.shape[0]/noOfFolds))*f:(int(plebaniMICA_Y_copy.shape[0]/noOfFolds))*(f+1)]\n",
    "\n",
    "    Ppredict=(model.predict(testX))\n",
    "    Plabel=np.array([mineralIndexMap[np.argmax(Ppredict[p])] for p in range(Ppredict.shape[0])])    \n",
    "    \n",
    "    individual_mineral.append(np.sum(np.where(Plabel==testY,True,False))/testY.shape[0])\n",
    "    mineral_group.append(np.sum(np.where(getGroupPred(Plabel)==getGroupPred(testY),True,False))/testY.shape[0])\n",
    "    \n",
    "    G=getClassWiseAccuracy(getGroupPred(Plabel),getGroupPred(testY))\n",
    "    for g in G:\n",
    "        groupwisePerf[g].append(G[g])\n",
    "        \n",
    "print('mineral_group',np.round(np.mean(mineral_group),4),np.round(np.std(mineral_group),3))\n",
    "print('groupwisePerf',[(mineralGroupNames[g],np.round(np.mean(groupwisePerf[g]),4),np.round(np.std(groupwisePerf[g]),3)) for g in groupwisePerf])"
   ]
  },
  {
   "cell_type": "markdown",
   "metadata": {},
   "source": [
    "------------------------------------------------------------------------------------------------------------------\n",
    "RFC"
   ]
  },
  {
   "cell_type": "code",
   "execution_count": 35,
   "metadata": {},
   "outputs": [
    {
     "name": "stdout",
     "output_type": "stream",
     "text": [
      "mineral_group 0.7967 0.008\n",
      "groupwisePerf [('Iron oxides and primary silicates', 0.817, 0.027), ('Ices', 0.5437, 0.018), ('Sulfates', 0.9625, 0.008), ('Phyllosilicates', 0.886, 0.012), ('Carbonates', 0.645, 0.091), ('Hydrated silicates and halides', 0.58, 0.056)]\n"
     ]
    }
   ],
   "source": [
    "plebaniMICA_X_smCRSSFE_copy,plebaniMICA_Y_copy=np.copy(labelledData_X['crsmCRSSFE']),np.copy(labelledData_Y)\n",
    "plebaniMICA_X_smCRSSFE_copy,plebaniMICA_Y_copy=shuffle_in_unison(plebaniMICA_X_smCRSSFE_copy,plebaniMICA_Y_copy)\n",
    "noOfFolds=10\n",
    "\n",
    "model=joblib.load('models/RFC_crsmCRSSFE.z')\n",
    "    \n",
    "individual_mineral,mineral_group,groupwisePerf=[],[],{i:[] for i in range(len(mineralGroupNames))}\n",
    "for f in range(noOfFolds):\n",
    "    testX=plebaniMICA_X_smCRSSFE_copy[(int(plebaniMICA_Y_copy.shape[0]/noOfFolds))*f:(int(plebaniMICA_Y_copy.shape[0]/noOfFolds))*(f+1),:]\n",
    "    testY=plebaniMICA_Y_copy[(int(plebaniMICA_Y_copy.shape[0]/noOfFolds))*f:(int(plebaniMICA_Y_copy.shape[0]/noOfFolds))*(f+1)]\n",
    "  \n",
    "    Plabel=(model.predict(testX))\n",
    "    \n",
    "    individual_mineral.append(np.sum(np.where(Plabel==testY,True,False))/testY.shape[0])\n",
    "    mineral_group.append(np.sum(np.where(getGroupPred(Plabel)==getGroupPred(testY),True,False))/testY.shape[0])\n",
    "    \n",
    "    G=getClassWiseAccuracy(getGroupPred(Plabel),getGroupPred(testY))\n",
    "    for g in G:\n",
    "        groupwisePerf[g].append(G[g])\n",
    "        \n",
    "print('mineral_group',np.round(np.mean(mineral_group),4),np.round(np.std(mineral_group),3))\n",
    "print('groupwisePerf',[(mineralGroupNames[g],np.round(np.mean(groupwisePerf[g]),4),np.round(np.std(groupwisePerf[g]),3)) for g in groupwisePerf])"
   ]
  },
  {
   "cell_type": "markdown",
   "metadata": {},
   "source": [
    "------------------------------------------------------------------------------------------------------------------\n",
    "SVC"
   ]
  },
  {
   "cell_type": "code",
   "execution_count": 32,
   "metadata": {},
   "outputs": [
    {
     "name": "stdout",
     "output_type": "stream",
     "text": [
      "mineral_group 0.8039 0.019\n",
      "groupwisePerf [('Iron oxides and primary silicates', 0.8112, 0.049), ('Ices', 0.8152, 0.047), ('Sulfates', 0.9497, 0.018), ('Phyllosilicates', 0.9375, 0.022), ('Carbonates', 0.422, 0.055), ('Hydrated silicates and halides', 0.5532, 0.033)]\n"
     ]
    }
   ],
   "source": [
    "plebaniMICA_X_smCRSSFE_copy,plebaniMICA_Y_copy=np.copy(labelledData_X['crsmCRSSFE']),np.copy(labelledData_Y)\n",
    "plebaniMICA_X_smCRSSFE_copy,plebaniMICA_Y_copy=shuffle_in_unison(plebaniMICA_X_smCRSSFE_copy,plebaniMICA_Y_copy)\n",
    "noOfFolds=10\n",
    "\n",
    "pca=joblib.load('models/PCA_crsmCRSSFE.z')\n",
    "model=joblib.load('models/SVC_crsmCRSSFE.z')\n",
    "    \n",
    "individual_mineral,mineral_group,groupwisePerf=[],[],{i:[] for i in range(len(mineralGroupNames))}\n",
    "for f in range(noOfFolds):\n",
    "    testX=pca.transform(plebaniMICA_X_smCRSSFE_copy[(int(plebaniMICA_Y_copy.shape[0]/noOfFolds))*f:(int(plebaniMICA_Y_copy.shape[0]/noOfFolds))*(f+1),:])\n",
    "    testY=plebaniMICA_Y_copy[(int(plebaniMICA_Y_copy.shape[0]/noOfFolds))*f:(int(plebaniMICA_Y_copy.shape[0]/noOfFolds))*(f+1)]\n",
    "  \n",
    "    Plabel=(model.predict(testX))\n",
    "    \n",
    "    individual_mineral.append(np.sum(np.where(Plabel==testY,True,False))/testY.shape[0])\n",
    "    mineral_group.append(np.sum(np.where(getGroupPred(Plabel)==getGroupPred(testY),True,False))/testY.shape[0])\n",
    "    \n",
    "    G=getClassWiseAccuracy(getGroupPred(Plabel),getGroupPred(testY))\n",
    "    for g in G:\n",
    "        groupwisePerf[g].append(G[g])\n",
    "        \n",
    "print('mineral_group',np.round(np.mean(mineral_group),4),np.round(np.std(mineral_group),3))\n",
    "print('groupwisePerf',[(mineralGroupNames[g],np.round(np.mean(groupwisePerf[g]),4),np.round(np.std(groupwisePerf[g]),3)) for g in groupwisePerf])"
   ]
  }
 ],
 "metadata": {
  "kernelspec": {
   "display_name": "Python 3",
   "language": "python",
   "name": "python3"
  },
  "language_info": {
   "codemirror_mode": {
    "name": "ipython",
    "version": 3
   },
   "file_extension": ".py",
   "mimetype": "text/x-python",
   "name": "python",
   "nbconvert_exporter": "python",
   "pygments_lexer": "ipython3",
   "version": "3.7.7"
  }
 },
 "nbformat": 4,
 "nbformat_minor": 5
}
